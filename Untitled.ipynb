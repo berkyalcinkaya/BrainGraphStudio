{
 "cells": [
  {
   "cell_type": "code",
   "execution_count": 2,
   "id": "bab4f6f5-2826-4876-b80c-df92a086cb42",
   "metadata": {
    "tags": []
   },
   "outputs": [],
   "source": [
    "import scipy.io\n",
    "import numpy as np"
   ]
  },
  {
   "cell_type": "code",
   "execution_count": 3,
   "id": "1250af79-3d29-4e67-8903-ff42d0b5fb56",
   "metadata": {
    "tags": []
   },
   "outputs": [],
   "source": [
    "\n",
    "# List of file paths\n",
    "file_paths = [\n",
    "    '/Users/berk/code/gnn_gui/test/test_graphs/Sub4_Gr1.mat',\n",
    "    '/Users/berk/code/gnn_gui/test/test_graphs/Sub10_Gr1.mat',\n",
    "    '/Users/berk/code/gnn_gui/test/test_graphs/Sub5_Gr1.mat',\n",
    "    '/Users/berk/code/gnn_gui/test/test_graphs/Sub7_Gr1.mat',\n",
    "    '/Users/berk/code/gnn_gui/test/test_graphs/Sub6_Gr1.mat',\n",
    "    '/Users/berk/code/gnn_gui/test/test_graphs/Sub3_Gr1.mat',\n",
    "    '/Users/berk/code/gnn_gui/test/test_graphs/Sub2_Gr1.mat',\n",
    "    '/Users/berk/code/gnn_gui/test/test_graphs/Sub9_Gr1.mat',\n",
    "    '/Users/berk/code/gnn_gui/test/test_graphs/Sub8_Gr1.mat',\n",
    "    '/Users/berk/code/gnn_gui/test/test_graphs/Sub1_Gr1.mat'\n",
    "]"
   ]
  },
  {
   "cell_type": "code",
   "execution_count": 6,
   "id": "6331c0bd-d708-44be-ba1f-01ad1a4cc60a",
   "metadata": {
    "tags": []
   },
   "outputs": [
    {
     "name": "stdout",
     "output_type": "stream",
     "text": [
      "(30, 30)\n",
      "(30, 30)\n",
      "(30, 30)\n",
      "(30, 30)\n",
      "(30, 30)\n",
      "(30, 30)\n",
      "(30, 30)\n",
      "(30, 30)\n",
      "(30, 30)\n",
      "(30, 30)\n"
     ]
    }
   ],
   "source": [
    "\n",
    "# List to store loaded arrays\n",
    "arrays = []\n",
    "\n",
    "# Load each MATLAB file and store the data as NumPy arrays\n",
    "for path in file_paths:\n",
    "    mat_data = scipy.io.loadmat(path)  # Load the MATLAB file\n",
    "    # Assuming there's a specific key with the array data (e.g., 'data')\n",
    "    # You might need to check the keys in 'mat_data' to find the correct one\n",
    "    \n",
    "    print(mat_data[\"D1\"].shape)\n",
    "    \n",
    "    # array_key = next(iter(mat_data))  # Get the first key from the dictionary\n",
    "    # np_array = np.array(mat_data[array_key])  # Convert to NumPy array\n",
    "    # arrays.append(np_array) "
   ]
  },
  {
   "cell_type": "code",
   "execution_count": null,
   "id": "cc8992f0-ad5a-4593-a0cc-a52e580d603c",
   "metadata": {},
   "outputs": [],
   "source": []
  }
 ],
 "metadata": {
  "kernelspec": {
   "display_name": "lcbn2",
   "language": "python",
   "name": "lcbn2"
  },
  "language_info": {
   "codemirror_mode": {
    "name": "ipython",
    "version": 3
   },
   "file_extension": ".py",
   "mimetype": "text/x-python",
   "name": "python",
   "nbconvert_exporter": "python",
   "pygments_lexer": "ipython3",
   "version": "3.10.0"
  }
 },
 "nbformat": 4,
 "nbformat_minor": 5
}
